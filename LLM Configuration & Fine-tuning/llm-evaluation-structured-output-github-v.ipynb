{
 "cells": [
  {
   "cell_type": "code",
   "execution_count": 1,
   "id": "d79a321a",
   "metadata": {
    "_cell_guid": "b1076dfc-b9ad-4769-8c92-a6c4dae69d19",
    "_uuid": "8f2839f25d086af736a60e9eeb907d3b93b6e0e5",
    "execution": {
     "iopub.execute_input": "2025-05-05T16:42:23.113696Z",
     "iopub.status.busy": "2025-05-05T16:42:23.112865Z",
     "iopub.status.idle": "2025-05-05T16:42:25.290972Z",
     "shell.execute_reply": "2025-05-05T16:42:25.289726Z"
    },
    "papermill": {
     "duration": 2.186876,
     "end_time": "2025-05-05T16:42:25.292749",
     "exception": false,
     "start_time": "2025-05-05T16:42:23.105873",
     "status": "completed"
    },
    "tags": []
   },
   "outputs": [],
   "source": [
    "# This Python 3 environment comes with many helpful analytics libraries installed\n",
    "# It is defined by the kaggle/python Docker image: https://github.com/kaggle/docker-python\n",
    "# For example, here's several helpful packages to load\n",
    "\n",
    "import numpy as np # linear algebra\n",
    "import pandas as pd # data processing, CSV file I/O (e.g. pd.read_csv)\n",
    "\n",
    "# Input data files are available in the read-only \"../input/\" directory\n",
    "# For example, running this (by clicking run or pressing Shift+Enter) will list all files under the input directory\n",
    "\n",
    "import os\n",
    "for dirname, _, filenames in os.walk('/kaggle/input'):\n",
    "    for filename in filenames:\n",
    "        print(os.path.join(dirname, filename))\n",
    "\n",
    "# You can write up to 20GB to the current directory (/kaggle/working/) that gets preserved as output when you create a version using \"Save & Run All\" \n",
    "# You can also write temporary files to /kaggle/temp/, but they won't be saved outside of the current session"
   ]
  },
  {
   "cell_type": "code",
   "execution_count": 2,
   "id": "81ae3ce5",
   "metadata": {
    "execution": {
     "iopub.execute_input": "2025-05-05T16:42:25.304176Z",
     "iopub.status.busy": "2025-05-05T16:42:25.303688Z",
     "iopub.status.idle": "2025-05-05T16:42:32.574165Z",
     "shell.execute_reply": "2025-05-05T16:42:32.572797Z"
    },
    "papermill": {
     "duration": 7.278682,
     "end_time": "2025-05-05T16:42:32.576575",
     "exception": false,
     "start_time": "2025-05-05T16:42:25.297893",
     "status": "completed"
    },
    "tags": []
   },
   "outputs": [
    {
     "name": "stdout",
     "output_type": "stream",
     "text": [
      "\u001b[2K   \u001b[90m━━━━━━━━━━━━━━━━━━━━━━━━━━━━━━━━━━━━━━━━\u001b[0m \u001b[32m144.7/144.7 kB\u001b[0m \u001b[31m3.5 MB/s\u001b[0m eta \u001b[36m0:00:00\u001b[0m\r\n",
      "\u001b[2K   \u001b[90m━━━━━━━━━━━━━━━━━━━━━━━━━━━━━━━━━━━━━━━━\u001b[0m \u001b[32m100.9/100.9 kB\u001b[0m \u001b[31m3.4 MB/s\u001b[0m eta \u001b[36m0:00:00\u001b[0m\r\n",
      "\u001b[?25h"
     ]
    }
   ],
   "source": [
    "!pip install -Uq \"google-genai==1.7.0\""
   ]
  },
  {
   "cell_type": "code",
   "execution_count": 3,
   "id": "24df9806",
   "metadata": {
    "execution": {
     "iopub.execute_input": "2025-05-05T16:42:32.589761Z",
     "iopub.status.busy": "2025-05-05T16:42:32.589414Z",
     "iopub.status.idle": "2025-05-05T16:42:34.015780Z",
     "shell.execute_reply": "2025-05-05T16:42:34.014802Z"
    },
    "papermill": {
     "duration": 1.434865,
     "end_time": "2025-05-05T16:42:34.017452",
     "exception": false,
     "start_time": "2025-05-05T16:42:32.582587",
     "status": "completed"
    },
    "tags": []
   },
   "outputs": [
    {
     "data": {
      "text/plain": [
       "'1.7.0'"
      ]
     },
     "execution_count": 3,
     "metadata": {},
     "output_type": "execute_result"
    }
   ],
   "source": [
    "from google import genai\n",
    "from google.genai import types\n",
    "\n",
    "from IPython.display import Markdown, display\n",
    "\n",
    "genai.__version__"
   ]
  },
  {
   "cell_type": "code",
   "execution_count": 4,
   "id": "0f7a4a26",
   "metadata": {
    "execution": {
     "iopub.execute_input": "2025-05-05T16:42:34.030391Z",
     "iopub.status.busy": "2025-05-05T16:42:34.029693Z",
     "iopub.status.idle": "2025-05-05T16:42:34.625259Z",
     "shell.execute_reply": "2025-05-05T16:42:34.623960Z"
    },
    "papermill": {
     "duration": 0.603811,
     "end_time": "2025-05-05T16:42:34.627118",
     "exception": false,
     "start_time": "2025-05-05T16:42:34.023307",
     "status": "completed"
    },
    "tags": []
   },
   "outputs": [],
   "source": [
    "from kaggle_secrets import UserSecretsClient\n",
    "\n",
    "client = genai.Client(api_key=UserSecretsClient().get_secret(\"GOOGLE_API_KEY\"))"
   ]
  },
  {
   "cell_type": "code",
   "execution_count": 5,
   "id": "26e36c09",
   "metadata": {
    "execution": {
     "iopub.execute_input": "2025-05-05T16:42:34.639699Z",
     "iopub.status.busy": "2025-05-05T16:42:34.639345Z",
     "iopub.status.idle": "2025-05-05T16:42:34.978268Z",
     "shell.execute_reply": "2025-05-05T16:42:34.977214Z"
    },
    "papermill": {
     "duration": 0.34694,
     "end_time": "2025-05-05T16:42:34.979949",
     "exception": false,
     "start_time": "2025-05-05T16:42:34.633009",
     "status": "completed"
    },
    "tags": []
   },
   "outputs": [],
   "source": [
    "from google.api_core import retry\n",
    "\n",
    "is_retriable = lambda e: (isinstance(e, genai.errors.APIError) and e.code in {429, 503})\n",
    "\n",
    "if not hasattr(genai.models.Models.generate_content, '__wrapped__'):\n",
    "  genai.models.Models.generate_content = retry.Retry(\n",
    "      predicate=is_retriable)(genai.models.Models.generate_content)"
   ]
  },
  {
   "cell_type": "markdown",
   "id": "99f4f6b3",
   "metadata": {
    "papermill": {
     "duration": 0.004666,
     "end_time": "2025-05-05T16:42:34.989687",
     "exception": false,
     "start_time": "2025-05-05T16:42:34.985021",
     "status": "completed"
    },
    "tags": []
   },
   "source": [
    "evaluate a summarisation task using the [Gemini 1.5 Pro technical report](https://storage.googleapis.com/cloud-samples-data/generative-ai/pdf/2403.05530.pdf)"
   ]
  },
  {
   "cell_type": "code",
   "execution_count": 6,
   "id": "8eed017f",
   "metadata": {
    "execution": {
     "iopub.execute_input": "2025-05-05T16:42:35.001959Z",
     "iopub.status.busy": "2025-05-05T16:42:35.000873Z",
     "iopub.status.idle": "2025-05-05T16:42:36.362284Z",
     "shell.execute_reply": "2025-05-05T16:42:36.360878Z"
    },
    "papermill": {
     "duration": 1.369653,
     "end_time": "2025-05-05T16:42:36.364252",
     "exception": false,
     "start_time": "2025-05-05T16:42:34.994599",
     "status": "completed"
    },
    "tags": []
   },
   "outputs": [
    {
     "name": "stdout",
     "output_type": "stream",
     "text": [
      "2025-05-05 16:42:35 URL:https://storage.googleapis.com/cloud-samples-data/generative-ai/pdf/2403.05530.pdf [7228817/7228817] -> \"gemini.pdf\" [1]\r\n"
     ]
    }
   ],
   "source": [
    "!wget -nv -O gemini.pdf https://storage.googleapis.com/cloud-samples-data/generative-ai/pdf/2403.05530.pdf\n",
    "\n",
    "document_file = client.files.upload(file='gemini.pdf')"
   ]
  },
  {
   "cell_type": "code",
   "execution_count": 7,
   "id": "3d3a4467",
   "metadata": {
    "execution": {
     "iopub.execute_input": "2025-05-05T16:42:36.377820Z",
     "iopub.status.busy": "2025-05-05T16:42:36.375851Z",
     "iopub.status.idle": "2025-05-05T16:42:48.542639Z",
     "shell.execute_reply": "2025-05-05T16:42:48.541548Z"
    },
    "papermill": {
     "duration": 12.17525,
     "end_time": "2025-05-05T16:42:48.544570",
     "exception": false,
     "start_time": "2025-05-05T16:42:36.369320",
     "status": "completed"
    },
    "tags": []
   },
   "outputs": [
    {
     "data": {
      "text/markdown": [
       "Based on the document you provided, here's a breakdown of the training process used for Gemini 1.5 Pro:\n",
       "\n",
       "**1. Data:**\n",
       "\n",
       "*   **Multimodal and Multilingual Data:** The model is trained on a diverse dataset that includes:\n",
       "    *   Web documents\n",
       "    *   Code\n",
       "    *   Images\n",
       "    *   Audio\n",
       "    *   Video content\n",
       "\n",
       "**2. Infrastructure:**\n",
       "\n",
       "*   **TPUv4 Accelerators:** Training is performed on multiple 4096-chip pods of Google's TPUv4 accelerators.\n",
       "*   **Distributed Training:** These accelerators are distributed across multiple datacenters.\n",
       "\n",
       "**3. Model Architecture:**\n",
       "\n",
       "*   **Mixture-of-Experts (MoE) Transformer:** Gemini 1.5 Pro is based on a sparse MoE Transformer architecture. This allows the model to have a large number of parameters while only activating a subset for any given input.\n",
       "\n",
       "**4. Training Phases:**\n",
       "\n",
       "*   **Pre-training:** The model is initially pre-trained on the large multimodal and multilingual dataset.\n",
       "*   **Instruction Tuning:** After pre-training, the model is fine-tuned using a collection of multimodal data containing paired instructions and appropriate responses.\n",
       "*   **Human Preference Tuning:** Further tuning is done based on human preference data.\n",
       "\n",
       "**5. Long-Context Capabilities:**\n",
       "\n",
       "*   The model incorporates significant architectural changes to enable understanding of inputs up to 10 million tokens without performance degradation.\n",
       "\n",
       "**6. Optimization:**\n",
       "\n",
       "*   Improvements are made across the entire model stack, including architecture, data, optimization, and systems, to achieve comparable quality to Gemini 1.0 Ultra with significantly less training compute and improved efficiency.\n",
       "\n",
       "**Key Takeaways:**\n",
       "\n",
       "*   Gemini 1.5 Pro leverages a massive and diverse dataset, powerful hardware, and a sophisticated architecture to achieve its capabilities.\n",
       "*   The training process involves multiple stages, including pre-training, instruction tuning, and human preference tuning.\n",
       "*   A key focus is on enabling long-context understanding without sacrificing performance on core capabilities.\n"
      ],
      "text/plain": [
       "<IPython.core.display.Markdown object>"
      ]
     },
     "execution_count": 7,
     "metadata": {},
     "output_type": "execute_result"
    }
   ],
   "source": [
    "request = 'Tell me about the training process used here.'\n",
    "\n",
    "def summarise_doc(request: str) -> str:\n",
    "  \"\"\"Execute the request on the uploaded document.\"\"\"\n",
    "  # Set the temperature low to stabilise the output.\n",
    "  config = types.GenerateContentConfig(temperature=0.0)\n",
    "  response = client.models.generate_content(\n",
    "      model='gemini-2.0-flash',\n",
    "      config=config,\n",
    "      contents=[request, document_file],\n",
    "  )\n",
    "\n",
    "  return response.text\n",
    "\n",
    "summary = summarise_doc(request)\n",
    "Markdown(summary)"
   ]
  },
  {
   "cell_type": "markdown",
   "id": "72cb5a09",
   "metadata": {
    "papermill": {
     "duration": 0.006279,
     "end_time": "2025-05-05T16:42:48.556072",
     "exception": false,
     "start_time": "2025-05-05T16:42:48.549793",
     "status": "completed"
    },
    "tags": []
   },
   "source": [
    "For a task like this, you may wish to evaluate a number of aspects, like how well the model followed the prompt (\"instruction following\"), whether it included relevant data in the prompt (\"groundedness\"), how easy the text is to read (\"fluency\"), or other factors like \"verbosity\" or \"quality\".\n",
    "\n",
    "You can instruct an LLM to perform these tasks in a similar manner to how you would instruct a human rater: with a clear definition and [assessment rubric](https://en.wikipedia.org/wiki/Rubric_%28academic%29).\n",
    "\n",
    "In this step, you define an evaluation agent using a pre-written \"summarisation\" prompt and use it to gauge the quality of the generated summary.\n",
    "\n",
    "Note: For more pre-written evaluation prompts covering groundedness, safety, coherence and more, check out this [comprehensive list of model-based evaluation prompts](https://cloud.google.com/vertex-ai/generative-ai/docs/models/metrics-templates) from the Google Cloud docs."
   ]
  },
  {
   "cell_type": "markdown",
   "id": "038e4ed5",
   "metadata": {
    "papermill": {
     "duration": 0.004747,
     "end_time": "2025-05-05T16:42:48.566018",
     "exception": false,
     "start_time": "2025-05-05T16:42:48.561271",
     "status": "completed"
    },
    "tags": []
   },
   "source": [
    "In this example, the model generated a textual justification that was set up in a chat context. This full text response is useful both for human interpretation and for giving the model a place to \"collect notes\" while it assesses the text and produces a final score. This \"note taking\" or \"thinking\" strategy typically works well with auto-regressive models, where the generated text is passed back into the model at each generation step. This means the working \"notes\" are used when generating final result output.\n",
    "\n",
    "In the next turn, the model converts the text output into a structured response. If you want to aggregate scores or use them programatically then you want to avoid parsing the unstructured text output. Here the `SummaryRating` schema is passed, so the model converts the chat history into an instance of the `SummaryRating` enum."
   ]
  },
  {
   "cell_type": "code",
   "execution_count": 8,
   "id": "8dbe3909",
   "metadata": {
    "execution": {
     "iopub.execute_input": "2025-05-05T16:42:48.579242Z",
     "iopub.status.busy": "2025-05-05T16:42:48.578365Z",
     "iopub.status.idle": "2025-05-05T16:42:50.183652Z",
     "shell.execute_reply": "2025-05-05T16:42:50.182014Z"
    },
    "papermill": {
     "duration": 1.61478,
     "end_time": "2025-05-05T16:42:50.186242",
     "exception": false,
     "start_time": "2025-05-05T16:42:48.571462",
     "status": "completed"
    },
    "tags": []
   },
   "outputs": [
    {
     "data": {
      "text/markdown": [
       "## Evaluation\n",
       "\n",
       "### STEP 1: Assess the response in aspects of instruction following, groundedness, conciseness, and verbosity according to the criteria.\n",
       "The model does a great job summarizing the document and answering the question that I posed.\n",
       "\n",
       "### STEP 2: Score based on the rubric.\n",
       "5\n"
      ],
      "text/plain": [
       "<IPython.core.display.Markdown object>"
      ]
     },
     "execution_count": 8,
     "metadata": {},
     "output_type": "execute_result"
    }
   ],
   "source": [
    "import enum\n",
    "\n",
    "# Define the evaluation prompt\n",
    "SUMMARY_PROMPT = \"\"\"\\\n",
    "# Instruction\n",
    "You are an expert evaluator. Your task is to evaluate the quality of the responses generated by AI models.\n",
    "We will provide you with the user input and an AI-generated responses.\n",
    "You should first read the user input carefully for analyzing the task, and then evaluate the quality of the responses based on the Criteria provided in the Evaluation section below.\n",
    "You will assign the response a rating following the Rating Rubric and Evaluation Steps. Give step-by-step explanations for your rating, and only choose ratings from the Rating Rubric.\n",
    "\n",
    "# Evaluation\n",
    "## Metric Definition\n",
    "You will be assessing summarization quality, which measures the overall ability to summarize text. Pay special attention to length constraints, such as in X words or in Y sentences. The instruction for performing a summarization task and the context to be summarized are provided in the user prompt. The response should be shorter than the text in the context. The response should not contain information that is not present in the context.\n",
    "\n",
    "## Criteria\n",
    "Instruction following: The response demonstrates a clear understanding of the summarization task instructions, satisfying all of the instruction's requirements.\n",
    "Groundedness: The response contains information included only in the context. The response does not reference any outside information.\n",
    "Conciseness: The response summarizes the relevant details in the original text without a significant loss in key information without being too verbose or terse.\n",
    "Fluency: The response is well-organized and easy to read.\n",
    "\n",
    "## Rating Rubric\n",
    "5: (Very good). The summary follows instructions, is grounded, is concise, and fluent.\n",
    "4: (Good). The summary follows instructions, is grounded, concise, and fluent.\n",
    "3: (Ok). The summary mostly follows instructions, is grounded, but is not very concise and is not fluent.\n",
    "2: (Bad). The summary is grounded, but does not follow the instructions.\n",
    "1: (Very bad). The summary is not grounded.\n",
    "\n",
    "## Evaluation Steps\n",
    "STEP 1: Assess the response in aspects of instruction following, groundedness, conciseness, and verbosity according to the criteria.\n",
    "STEP 2: Score based on the rubric.\n",
    "\n",
    "# User Inputs and AI-generated Response\n",
    "## User Inputs\n",
    "\n",
    "### Prompt\n",
    "{prompt}\n",
    "\n",
    "## AI-generated Response\n",
    "{response}\n",
    "\"\"\"\n",
    "\n",
    "# Define a structured enum class to capture the result.\n",
    "class SummaryRating(enum.Enum):\n",
    "  VERY_GOOD = '5'\n",
    "  GOOD = '4'\n",
    "  OK = '3'\n",
    "  BAD = '2'\n",
    "  VERY_BAD = '1'\n",
    "\n",
    "\n",
    "def eval_summary(prompt, ai_response):\n",
    "  \"\"\"Evaluate the generated summary against the prompt used.\"\"\"\n",
    "\n",
    "  chat = client.chats.create(model='gemini-2.0-flash')\n",
    "\n",
    "  # Generate the full text response.\n",
    "  response = chat.send_message(\n",
    "      message=SUMMARY_PROMPT.format(prompt=prompt, response=ai_response)\n",
    "  )\n",
    "  verbose_eval = response.text\n",
    "\n",
    "  # Coerce into the desired structure.\n",
    "  structured_output_config = types.GenerateContentConfig(\n",
    "      response_mime_type=\"text/x.enum\",\n",
    "      response_schema=SummaryRating,\n",
    "  )\n",
    "  response = chat.send_message(\n",
    "      message=\"Convert the final score.\",\n",
    "      config=structured_output_config,\n",
    "  )\n",
    "  structured_eval = response.parsed\n",
    "\n",
    "  return verbose_eval, structured_eval\n",
    "\n",
    "\n",
    "text_eval, struct_eval = eval_summary(prompt=[request, document_file], ai_response=summary)\n",
    "Markdown(text_eval)"
   ]
  },
  {
   "cell_type": "code",
   "execution_count": 9,
   "id": "6410958a",
   "metadata": {
    "execution": {
     "iopub.execute_input": "2025-05-05T16:42:50.199017Z",
     "iopub.status.busy": "2025-05-05T16:42:50.198663Z",
     "iopub.status.idle": "2025-05-05T16:42:50.204617Z",
     "shell.execute_reply": "2025-05-05T16:42:50.203741Z"
    },
    "papermill": {
     "duration": 0.015294,
     "end_time": "2025-05-05T16:42:50.207306",
     "exception": false,
     "start_time": "2025-05-05T16:42:50.192012",
     "status": "completed"
    },
    "tags": []
   },
   "outputs": [
    {
     "data": {
      "text/plain": [
       "<SummaryRating.VERY_GOOD: '5'>"
      ]
     },
     "execution_count": 9,
     "metadata": {},
     "output_type": "execute_result"
    }
   ],
   "source": [
    "struct_eval"
   ]
  },
  {
   "cell_type": "markdown",
   "id": "6a030637",
   "metadata": {
    "papermill": {
     "duration": 0.005558,
     "end_time": "2025-05-05T16:42:50.218392",
     "exception": false,
     "start_time": "2025-05-05T16:42:50.212834",
     "status": "completed"
    },
    "tags": []
   },
   "source": [
    "### Make the summary prompt better or worse\n",
    "\n",
    "Gemini models tend to be quite good at tasks like direct summarisation without much prompting, so you should expect to see a result like `GOOD` or `VERY_GOOD` on the previous task, even with a rudimentary prompt. Run it a few times to get a feel for the average response.\n",
    "\n",
    "To explore how to influence the summarisation output, consider what you might change in the summary request prompt to change the result. Take a look at the evaluation `SUMMARY_PROMPT` for some ideas.\n",
    "\n",
    "Try the following tweaks and see how they positively or negatively change the result:\n",
    "* Be specific with the size of the summary,\n",
    "* Request specific information,\n",
    "* Ask about information that is not in the document,\n",
    "* Ask for different degrees of summarisation (such as \"explain like I'm 5\" or \"with full technical depth\")"
   ]
  },
  {
   "cell_type": "code",
   "execution_count": 10,
   "id": "749cb312",
   "metadata": {
    "execution": {
     "iopub.execute_input": "2025-05-05T16:42:50.231392Z",
     "iopub.status.busy": "2025-05-05T16:42:50.230406Z",
     "iopub.status.idle": "2025-05-05T16:43:03.481125Z",
     "shell.execute_reply": "2025-05-05T16:43:03.479461Z"
    },
    "papermill": {
     "duration": 13.259726,
     "end_time": "2025-05-05T16:43:03.483431",
     "exception": false,
     "start_time": "2025-05-05T16:42:50.223705",
     "status": "completed"
    },
    "tags": []
   },
   "outputs": [
    {
     "data": {
      "text/markdown": [
       "Okay, I can explain the training process of a large language model like Gemini 1.5 in a way that a 5-year-old can understand.\n",
       "\n",
       "Imagine you have a puppy, and you want to teach it to understand and do tricks. That's kind of like training a big computer brain (the language model).\n",
       "\n",
       "Here's how it works:\n",
       "\n",
       "1.  **Show the puppy lots of examples:** You show the puppy lots of pictures, videos, and words. For example, you show it pictures of cats and say \"cat,\" pictures of dogs and say \"dog,\" and so on. The computer brain also sees lots of examples of text, images, and videos.\n",
       "\n",
       "2.  **Tell the puppy what's right and wrong:** When the puppy does something right, you give it a treat and say \"Good dog!\" When it does something wrong, you say \"No!\" or correct it. The computer brain has a special program that tells it when it's doing a good job (like predicting the next word in a sentence correctly) and when it's making a mistake.\n",
       "\n",
       "3.  **The puppy learns and gets better:** The puppy starts to learn which actions get it treats and which ones don't. It starts to understand what \"sit\" means and what \"fetch\" means. The computer brain also learns from its mistakes and gets better at understanding language, images, and videos.\n",
       "\n",
       "4.  **Practice, practice, practice:** You keep showing the puppy examples and giving it feedback until it's really good at understanding and doing tricks. The computer brain also needs lots and lots of practice to become really good at understanding and generating language.\n",
       "\n",
       "So, training a language model is like teaching a puppy, but instead of treats, the computer brain gets special signals that help it learn and get better at understanding the world.\n",
       "-----"
      ],
      "text/plain": [
       "<IPython.core.display.Markdown object>"
      ]
     },
     "metadata": {},
     "output_type": "display_data"
    },
    {
     "data": {
      "text/markdown": [
       "## Evaluation\n",
       "\n",
       "### STEP 1:\n",
       "The response is well-organized and easy to read. The response follows the instructions, it provides an explanation that is understandable for a 5-year-old. The response is grounded in that it uses the information provided in the document.\n",
       "\n",
       "### STEP 2:\n",
       "Rating: 5\n",
       "\n",
       "-----"
      ],
      "text/plain": [
       "<IPython.core.display.Markdown object>"
      ]
     },
     "metadata": {},
     "output_type": "display_data"
    },
    {
     "name": "stdout",
     "output_type": "stream",
     "text": [
      "SummaryRating.VERY_GOOD\n"
     ]
    }
   ],
   "source": [
    "new_prompt = \"Explain like I'm 5 the training process\"\n",
    "# Try:\n",
    "#  ELI5 the training process\n",
    "#  Summarise the needle/haystack evaluation technique in 1 line\n",
    "#  Describe the model architecture to someone with a civil engineering degree\n",
    "#  What is the best LLM?\n",
    "\n",
    "if not new_prompt:\n",
    "  raise ValueError(\"Try setting a new summarisation prompt.\")\n",
    "\n",
    "\n",
    "def run_and_eval_summary(prompt):\n",
    "  \"\"\"Generate and evaluate the summary using the new prompt.\"\"\"\n",
    "  summary = summarise_doc(new_prompt)\n",
    "  display(Markdown(summary + '\\n-----'))\n",
    "\n",
    "  text, struct = eval_summary([new_prompt, document_file], summary)\n",
    "  display(Markdown(text + '\\n-----'))\n",
    "  print(struct)\n",
    "\n",
    "run_and_eval_summary(new_prompt)"
   ]
  },
  {
   "cell_type": "markdown",
   "id": "d2e3795e",
   "metadata": {
    "papermill": {
     "duration": 0.00605,
     "end_time": "2025-05-05T16:43:03.496161",
     "exception": false,
     "start_time": "2025-05-05T16:43:03.490111",
     "status": "completed"
    },
    "tags": []
   },
   "source": [
    "## Evaluating in practice\n",
    "\n",
    "Evaluation has many practical uses, for example:\n",
    "* You can quickly iterate on a prompt with a small set of test documents,\n",
    "* You can compare different models to find what works best for your needs, such as finding the trade-off between price and performance, or finding the best performance for a specific task.\n",
    "* When pushing changes to a model or prompt in a production system, you can verify that the system does not regress in quality.\n",
    "\n",
    "In this section you will try two different evaluation approaches."
   ]
  },
  {
   "cell_type": "markdown",
   "id": "9fe6b4ee",
   "metadata": {
    "papermill": {
     "duration": 0.005589,
     "end_time": "2025-05-05T16:43:03.507323",
     "exception": false,
     "start_time": "2025-05-05T16:43:03.501734",
     "status": "completed"
    },
    "tags": []
   },
   "source": [
    "### Pointwise evaluation\n",
    "\n",
    "The technique used above, where you evaluate a single input/output pair against some criteria is known as pointwise evaluation. This is useful for evaluating singular outputs in an absolute sense, such as \"was it good or bad?\"\n",
    "\n",
    "In this exercise, you will try different guidance prompts with a set of questions."
   ]
  },
  {
   "cell_type": "code",
   "execution_count": 11,
   "id": "f9eef52e",
   "metadata": {
    "execution": {
     "iopub.execute_input": "2025-05-05T16:43:03.523141Z",
     "iopub.status.busy": "2025-05-05T16:43:03.522775Z",
     "iopub.status.idle": "2025-05-05T16:43:14.282851Z",
     "shell.execute_reply": "2025-05-05T16:43:14.281978Z"
    },
    "papermill": {
     "duration": 10.770119,
     "end_time": "2025-05-05T16:43:14.284494",
     "exception": false,
     "start_time": "2025-05-05T16:43:03.514375",
     "status": "completed"
    },
    "tags": []
   },
   "outputs": [
    {
     "data": {
      "text/markdown": [
       "Gemini 1.5 Pro performs well on code tasks, surpassing Gemini 1.0 Ultra on Natural2Code and showing a substantial improvement on the MGSM dataset.\n"
      ],
      "text/plain": [
       "<IPython.core.display.Markdown object>"
      ]
     },
     "execution_count": 11,
     "metadata": {},
     "output_type": "execute_result"
    }
   ],
   "source": [
    "import functools\n",
    "\n",
    "# Try these instructions, or edit and add your own.\n",
    "terse_guidance = \"Answer the following question in a single sentence, or as close to that as possible.\"\n",
    "moderate_guidance = \"Provide a brief answer to the following question, use a citation if necessary, but only enough to answer the question.\"\n",
    "cited_guidance = \"Provide a thorough, detailed answer to the following question, citing the document and supplying additional background information as much as possible.\"\n",
    "guidance_options = {\n",
    "    'Terse': terse_guidance,\n",
    "    'Moderate': moderate_guidance,\n",
    "    'Cited': cited_guidance,\n",
    "}\n",
    "\n",
    "questions = [\n",
    "    # Un-comment one or more questions to try here, or add your own.\n",
    "    # Evaluating more questions will take more time, but produces results\n",
    "    # with higher confidence. In a production system, you may have hundreds\n",
    "    # of questions to evaluate a complex system.\n",
    "\n",
    "    # \"What metric(s) are used to evaluate long context performance?\",\n",
    "    \"How does the model perform on code tasks?\",\n",
    "    \"How many layers does it have?\",\n",
    "    # \"Why is it called Gemini?\",\n",
    "]\n",
    "\n",
    "if not questions:\n",
    "  raise NotImplementedError('Add some questions to evaluate!')\n",
    "\n",
    "\n",
    "@functools.cache\n",
    "def answer_question(question: str, guidance: str = '') -> str:\n",
    "  \"\"\"Generate an answer to the question using the uploaded document and guidance.\"\"\"\n",
    "  config = types.GenerateContentConfig(\n",
    "      temperature=0.0,\n",
    "      system_instruction=guidance,\n",
    "  )\n",
    "  response = client.models.generate_content(\n",
    "      model='gemini-2.0-flash',\n",
    "      config=config,\n",
    "      contents=[question, document_file],\n",
    "  )\n",
    "\n",
    "  return response.text\n",
    "\n",
    "\n",
    "answer = answer_question(questions[0], terse_guidance)\n",
    "Markdown(answer)"
   ]
  },
  {
   "cell_type": "code",
   "execution_count": 12,
   "id": "7d754b84",
   "metadata": {
    "execution": {
     "iopub.execute_input": "2025-05-05T16:43:14.298141Z",
     "iopub.status.busy": "2025-05-05T16:43:14.297686Z",
     "iopub.status.idle": "2025-05-05T16:43:15.299241Z",
     "shell.execute_reply": "2025-05-05T16:43:15.298201Z"
    },
    "papermill": {
     "duration": 1.010198,
     "end_time": "2025-05-05T16:43:15.300886",
     "exception": false,
     "start_time": "2025-05-05T16:43:14.290688",
     "status": "completed"
    },
    "tags": []
   },
   "outputs": [
    {
     "data": {
      "text/markdown": [
       "STEP 1: The response accurately answers the prompt question while remaining grounded within the provided document. The response is complete and fluent.\n",
       "STEP 2: Based on the evaluation above, I would rate this response as a 5."
      ],
      "text/plain": [
       "<IPython.core.display.Markdown object>"
      ]
     },
     "metadata": {},
     "output_type": "display_data"
    },
    {
     "name": "stdout",
     "output_type": "stream",
     "text": [
      "AnswerRating.VERY_GOOD\n"
     ]
    }
   ],
   "source": [
    "import enum\n",
    "\n",
    "QA_PROMPT = \"\"\"\\\n",
    "# Instruction\n",
    "You are an expert evaluator. Your task is to evaluate the quality of the responses generated by AI models.\n",
    "We will provide you with the user prompt and an AI-generated responses.\n",
    "You should first read the user prompt carefully for analyzing the task, and then evaluate the quality of the responses based on and rules provided in the Evaluation section below.\n",
    "\n",
    "# Evaluation\n",
    "## Metric Definition\n",
    "You will be assessing question answering quality, which measures the overall quality of the answer to the question in the user prompt. Pay special attention to length constraints, such as in X words or in Y sentences. The instruction for performing a question-answering task is provided in the user prompt. The response should not contain information that is not present in the context (if it is provided).\n",
    "\n",
    "You will assign the writing response a score from 5, 4, 3, 2, 1, following the Rating Rubric and Evaluation Steps.\n",
    "Give step-by-step explanations for your scoring, and only choose scores from 5, 4, 3, 2, 1.\n",
    "\n",
    "## Criteria Definition\n",
    "Instruction following: The response demonstrates a clear understanding of the question answering task instructions, satisfying all of the instruction's requirements.\n",
    "Groundedness: The response contains information included only in the context if the context is present in the user prompt. The response does not reference any outside information.\n",
    "Completeness: The response completely answers the question with sufficient detail.\n",
    "Fluent: The response is well-organized and easy to read.\n",
    "\n",
    "## Rating Rubric\n",
    "5: (Very good). The answer follows instructions, is grounded, complete, and fluent.\n",
    "4: (Good). The answer follows instructions, is grounded, complete, but is not very fluent.\n",
    "3: (Ok). The answer mostly follows instructions, is grounded, answers the question partially and is not very fluent.\n",
    "2: (Bad). The answer does not follow the instructions very well, is incomplete or not fully grounded.\n",
    "1: (Very bad). The answer does not follow the instructions, is wrong and not grounded.\n",
    "\n",
    "## Evaluation Steps\n",
    "STEP 1: Assess the response in aspects of instruction following, groundedness,completeness, and fluency according to the criteria.\n",
    "STEP 2: Score based on the rubric.\n",
    "\n",
    "# User Inputs and AI-generated Response\n",
    "## User Inputs\n",
    "### Prompt\n",
    "{prompt}\n",
    "\n",
    "## AI-generated Response\n",
    "{response}\n",
    "\"\"\"\n",
    "\n",
    "class AnswerRating(enum.Enum):\n",
    "  VERY_GOOD = '5'\n",
    "  GOOD = '4'\n",
    "  OK = '3'\n",
    "  BAD = '2'\n",
    "  VERY_BAD = '1'\n",
    "\n",
    "\n",
    "@functools.cache\n",
    "def eval_answer(prompt, ai_response, n=1):\n",
    "  \"\"\"Evaluate the generated answer against the prompt/question used.\"\"\"\n",
    "  chat = client.chats.create(model='gemini-2.0-flash')\n",
    "\n",
    "  # Generate the full text response.\n",
    "  response = chat.send_message(\n",
    "      message=QA_PROMPT.format(prompt=[prompt, document_file], response=ai_response)\n",
    "  )\n",
    "  verbose_eval = response.text\n",
    "\n",
    "  # Coerce into the desired structure.\n",
    "  structured_output_config = types.GenerateContentConfig(\n",
    "      response_mime_type=\"text/x.enum\",\n",
    "      response_schema=AnswerRating,\n",
    "  )\n",
    "  response = chat.send_message(\n",
    "      message=\"Convert the final score.\",\n",
    "      config=structured_output_config,\n",
    "  )\n",
    "  structured_eval = response.parsed\n",
    "\n",
    "  return verbose_eval, structured_eval\n",
    "\n",
    "\n",
    "text_eval, struct_eval = eval_answer(prompt=questions[0], ai_response=answer)\n",
    "display(Markdown(text_eval))\n",
    "print(struct_eval)\n"
   ]
  },
  {
   "cell_type": "code",
   "execution_count": 13,
   "id": "6cf01efe",
   "metadata": {
    "execution": {
     "iopub.execute_input": "2025-05-05T16:43:15.314171Z",
     "iopub.status.busy": "2025-05-05T16:43:15.313857Z",
     "iopub.status.idle": "2025-05-05T16:44:15.332975Z",
     "shell.execute_reply": "2025-05-05T16:44:15.331924Z"
    },
    "papermill": {
     "duration": 60.027824,
     "end_time": "2025-05-05T16:44:15.334702",
     "exception": false,
     "start_time": "2025-05-05T16:43:15.306878",
     "status": "completed"
    },
    "tags": []
   },
   "outputs": [
    {
     "data": {
      "text/markdown": [
       "## How does the model perform on code tasks?"
      ],
      "text/plain": [
       "<IPython.core.display.Markdown object>"
      ]
     },
     "metadata": {},
     "output_type": "display_data"
    },
    {
     "name": "stdout",
     "output_type": "stream",
     "text": [
      "Terse: AnswerRating.VERY_GOOD\n",
      "Moderate: AnswerRating.VERY_BAD\n",
      "Cited: AnswerRating.VERY_GOOD\n"
     ]
    },
    {
     "data": {
      "text/markdown": [
       "## How many layers does it have?"
      ],
      "text/plain": [
       "<IPython.core.display.Markdown object>"
      ]
     },
     "metadata": {},
     "output_type": "display_data"
    },
    {
     "name": "stdout",
     "output_type": "stream",
     "text": [
      "Terse: AnswerRating.VERY_GOOD\n",
      "Moderate: AnswerRating.VERY_GOOD\n",
      "Cited: AnswerRating.VERY_GOOD\n"
     ]
    }
   ],
   "source": [
    "import collections\n",
    "import itertools\n",
    "\n",
    "# Number of times to repeat each task in order to reduce error and calculate an average.\n",
    "# Increasing it will take longer but give better results, try 2 or 3 to start.\n",
    "NUM_ITERATIONS = 1\n",
    "\n",
    "scores = collections.defaultdict(int)\n",
    "responses = collections.defaultdict(list)\n",
    "\n",
    "for question in questions:\n",
    "  display(Markdown(f'## {question}'))\n",
    "  for guidance, guide_prompt in guidance_options.items():\n",
    "\n",
    "    for n in range(NUM_ITERATIONS):\n",
    "      # Generate a response.\n",
    "      answer = answer_question(question, guide_prompt)\n",
    "\n",
    "      # Evaluate the response (note that the guidance prompt is not passed).\n",
    "      written_eval, struct_eval = eval_answer(question, answer, n)\n",
    "      print(f'{guidance}: {struct_eval}')\n",
    "\n",
    "      # Save the numeric score.\n",
    "      scores[guidance] += int(struct_eval.value)\n",
    "\n",
    "      # Save the responses, in case you wish to inspect them.\n",
    "      responses[(guidance, question)].append((answer, written_eval))"
   ]
  },
  {
   "cell_type": "markdown",
   "id": "c8ec9a7b",
   "metadata": {
    "papermill": {
     "duration": 0.008423,
     "end_time": "2025-05-05T16:44:15.350080",
     "exception": false,
     "start_time": "2025-05-05T16:44:15.341657",
     "status": "completed"
    },
    "tags": []
   },
   "source": [
    "### Pairwise evaluation\n",
    "\n",
    "The pointwise evaluation prompt used in the previous step has 5 levels of grading in the output. This may be too coarse for your system, or perhaps you wish to improve on a prompt that is already \"very good\".\n",
    "\n",
    "Another approach to evaluation is to compare two outputs against each other. This is pairwise evaluation, and is a key step in ranking and sorting algorithms, which allows you to use it to rank your prompts either instead of, or in addition to the pointwise approach.\n",
    "\n",
    "This step implements pairwise evaluation using the [pairwise QA quality prompt](https://cloud.google.com/vertex-ai/generative-ai/docs/models/metrics-templates#pairwise_question_answering_quality) from the Google Cloud docs."
   ]
  },
  {
   "cell_type": "code",
   "execution_count": 14,
   "id": "a5e2e336",
   "metadata": {
    "execution": {
     "iopub.execute_input": "2025-05-05T16:44:15.372083Z",
     "iopub.status.busy": "2025-05-05T16:44:15.371662Z",
     "iopub.status.idle": "2025-05-05T16:44:17.588064Z",
     "shell.execute_reply": "2025-05-05T16:44:17.587110Z"
    },
    "papermill": {
     "duration": 2.227996,
     "end_time": "2025-05-05T16:44:17.589663",
     "exception": false,
     "start_time": "2025-05-05T16:44:15.361667",
     "status": "completed"
    },
    "tags": []
   },
   "outputs": [
    {
     "data": {
      "text/markdown": [
       "STEP 1: Analyze Response A: Response A is very short but provides useful information based on the document. It states that Gemini 1.5 pro is able to perform well on code tasks by surpassing Gemini 1.0 ultra.\n",
       "\n",
       "STEP 2: Analyze Response B: Response B provides much more information based on the document than response A does. It goes into more details about the ways Gemini 1.5 pro can work with code.\n",
       "\n",
       "STEP 3: Compare the overall performance of Response A and Response B: Response B is better because it provides a more detailed response than response A does.\n",
       "\n",
       "STEP 4: Output your preference: B\n",
       "\n",
       "STEP 5: Output your assessment reasoning: Response B is better because it provides more details and information about the way that Gemini 1.5 pro model handles code. It is well organized and makes it easy to understand the response.\n"
      ],
      "text/plain": [
       "<IPython.core.display.Markdown object>"
      ]
     },
     "metadata": {},
     "output_type": "display_data"
    },
    {
     "name": "stdout",
     "output_type": "stream",
     "text": [
      "AnswerComparison.B\n"
     ]
    }
   ],
   "source": [
    "QA_PAIRWISE_PROMPT = \"\"\"\\\n",
    "# Instruction\n",
    "You are an expert evaluator. Your task is to evaluate the quality of the responses generated by two AI models. We will provide you with the user input and a pair of AI-generated responses (Response A and Response B). You should first read the user input carefully for analyzing the task, and then evaluate the quality of the responses based on the Criteria provided in the Evaluation section below.\n",
    "\n",
    "You will first judge responses individually, following the Rating Rubric and Evaluation Steps. Then you will give step-by-step explanations for your judgment, compare results to declare the winner based on the Rating Rubric and Evaluation Steps.\n",
    "\n",
    "# Evaluation\n",
    "## Metric Definition\n",
    "You will be assessing question answering quality, which measures the overall quality of the answer to the question in the user prompt. Pay special attention to length constraints, such as in X words or in Y sentences. The instruction for performing a question-answering task is provided in the user prompt. The response should not contain information that is not present in the context (if it is provided).\n",
    "\n",
    "## Criteria\n",
    "Instruction following: The response demonstrates a clear understanding of the question answering task instructions, satisfying all of the instruction's requirements.\n",
    "Groundedness: The response contains information included only in the context if the context is present in the user prompt. The response does not reference any outside information.\n",
    "Completeness: The response completely answers the question with sufficient detail.\n",
    "Fluent: The response is well-organized and easy to read.\n",
    "\n",
    "## Rating Rubric\n",
    "\"A\": Response A answers the given question as per the criteria better than response B.\n",
    "\"SAME\": Response A and B answers the given question equally well as per the criteria.\n",
    "\"B\": Response B answers the given question as per the criteria better than response A.\n",
    "\n",
    "## Evaluation Steps\n",
    "STEP 1: Analyze Response A based on the question answering quality criteria: Determine how well Response A fulfills the user requirements, is grounded in the context, is complete and fluent, and provides assessment according to the criterion.\n",
    "STEP 2: Analyze Response B based on the question answering quality criteria: Determine how well Response B fulfills the user requirements, is grounded in the context, is complete and fluent, and provides assessment according to the criterion.\n",
    "STEP 3: Compare the overall performance of Response A and Response B based on your analyses and assessment.\n",
    "STEP 4: Output your preference of \"A\", \"SAME\" or \"B\" to the pairwise_choice field according to the Rating Rubric.\n",
    "STEP 5: Output your assessment reasoning in the explanation field.\n",
    "\n",
    "# User Inputs and AI-generated Responses\n",
    "## User Inputs\n",
    "### Prompt\n",
    "{prompt}\n",
    "\n",
    "# AI-generated Response\n",
    "\n",
    "### Response A\n",
    "{baseline_model_response}\n",
    "\n",
    "### Response B\n",
    "{response}\n",
    "\"\"\"\n",
    "\n",
    "\n",
    "class AnswerComparison(enum.Enum):\n",
    "  A = 'A'\n",
    "  SAME = 'SAME'\n",
    "  B = 'B'\n",
    "\n",
    "\n",
    "@functools.cache\n",
    "def eval_pairwise(prompt, response_a, response_b, n=1):\n",
    "  \"\"\"Determine the better of two answers to the same prompt.\"\"\"\n",
    "\n",
    "  chat = client.chats.create(model='gemini-2.0-flash')\n",
    "\n",
    "  # Generate the full text response.\n",
    "  response = chat.send_message(\n",
    "      message=QA_PAIRWISE_PROMPT.format(\n",
    "          prompt=[prompt, document_file],\n",
    "          baseline_model_response=response_a,\n",
    "          response=response_b)\n",
    "  )\n",
    "  verbose_eval = response.text\n",
    "\n",
    "  # Coerce into the desired structure.\n",
    "  structured_output_config = types.GenerateContentConfig(\n",
    "      response_mime_type=\"text/x.enum\",\n",
    "      response_schema=AnswerComparison,\n",
    "  )\n",
    "  response = chat.send_message(\n",
    "      message=\"Convert the final score.\",\n",
    "      config=structured_output_config,\n",
    "  )\n",
    "  structured_eval = response.parsed\n",
    "\n",
    "  return verbose_eval, structured_eval\n",
    "\n",
    "\n",
    "question = questions[0]\n",
    "answer_a = answer_question(question, terse_guidance)\n",
    "answer_b = answer_question(question, cited_guidance)\n",
    "\n",
    "text_eval, struct_eval = eval_pairwise(\n",
    "    prompt=question,\n",
    "    response_a=answer_a,\n",
    "    response_b=answer_b,\n",
    ")\n",
    "\n",
    "display(Markdown(text_eval))\n",
    "print(struct_eval)"
   ]
  },
  {
   "cell_type": "markdown",
   "id": "8ac77191",
   "metadata": {
    "papermill": {
     "duration": 0.006736,
     "end_time": "2025-05-05T16:44:17.603206",
     "exception": false,
     "start_time": "2025-05-05T16:44:17.596470",
     "status": "completed"
    },
    "tags": []
   },
   "source": [
    "With a pair-wise evaluator in place, the only thing required to rank prompts against each other is a comparator.\n",
    "\n",
    "This example implements the minimal comparators required for total ordering (`==` and `<`) and performs the comparison using  `n_iterations` evaluations over the set of `questions`."
   ]
  },
  {
   "cell_type": "code",
   "execution_count": 15,
   "id": "f1c9e3d7",
   "metadata": {
    "execution": {
     "iopub.execute_input": "2025-05-05T16:44:17.621202Z",
     "iopub.status.busy": "2025-05-05T16:44:17.619962Z",
     "iopub.status.idle": "2025-05-05T16:44:17.632235Z",
     "shell.execute_reply": "2025-05-05T16:44:17.630668Z"
    },
    "papermill": {
     "duration": 0.021935,
     "end_time": "2025-05-05T16:44:17.634105",
     "exception": false,
     "start_time": "2025-05-05T16:44:17.612170",
     "status": "completed"
    },
    "tags": []
   },
   "outputs": [],
   "source": [
    "@functools.total_ordering\n",
    "class QAGuidancePrompt:\n",
    "  \"\"\"A question-answering guidance prompt or system instruction.\"\"\"\n",
    "\n",
    "  def __init__(self, prompt, questions, n_comparisons=NUM_ITERATIONS):\n",
    "    \"\"\"Create the prompt. Provide questions to evaluate against, and number of evals to perform.\"\"\"\n",
    "    self.prompt = prompt\n",
    "    self.questions = questions\n",
    "    self.n = n_comparisons\n",
    "\n",
    "  def __str__(self):\n",
    "    return self.prompt\n",
    "\n",
    "  def _compare_all(self, other):\n",
    "    \"\"\"Compare two prompts on all questions over n trials.\"\"\"\n",
    "    results = [self._compare_n(other, q) for q in questions]\n",
    "    mean = sum(results) / len(results)\n",
    "    return round(mean)\n",
    "\n",
    "  def _compare_n(self, other, question):\n",
    "    \"\"\"Compare two prompts on a question over n trials.\"\"\"\n",
    "    results = [self._compare(other, question, n) for n in range(self.n)]\n",
    "    mean = sum(results) / len(results)\n",
    "    return mean\n",
    "\n",
    "  def _compare(self, other, question, n=1):\n",
    "    \"\"\"Compare two prompts on a single question.\"\"\"\n",
    "    answer_a = answer_question(question, self.prompt)\n",
    "    answer_b = answer_question(question, other.prompt)\n",
    "\n",
    "    _, result = eval_pairwise(\n",
    "        prompt=question,\n",
    "        response_a=answer_a,\n",
    "        response_b=answer_b,\n",
    "        n=n,  # Cache buster\n",
    "    )\n",
    "    # print(f'q[{question}], a[{self.prompt[:20]}...], b[{other.prompt[:20]}...]: {result}')\n",
    "\n",
    "    # Convert the enum to the standard Python numeric comparison values.\n",
    "    if result is AnswerComparison.A:\n",
    "      return 1\n",
    "    elif result is AnswerComparison.B:\n",
    "      return -1\n",
    "    else:\n",
    "      return 0\n",
    "\n",
    "  def __eq__(self, other):\n",
    "    \"\"\"Equality check that performs pairwise evaluation.\"\"\"\n",
    "    if not isinstance(other, QAGuidancePrompt):\n",
    "      return NotImplemented\n",
    "\n",
    "    return self._compare_all(other) == 0\n",
    "\n",
    "  def __lt__(self, other):\n",
    "    \"\"\"Ordering check that performs pairwise evaluation.\"\"\"\n",
    "    if not isinstance(other, QAGuidancePrompt):\n",
    "      return NotImplemented\n",
    "\n",
    "    return self._compare_all(other) < 0"
   ]
  },
  {
   "cell_type": "markdown",
   "id": "951eded2",
   "metadata": {
    "papermill": {
     "duration": 0.006521,
     "end_time": "2025-05-05T16:44:17.648081",
     "exception": false,
     "start_time": "2025-05-05T16:44:17.641560",
     "status": "completed"
    },
    "tags": []
   },
   "source": [
    "Now Python's sorting functions will \"just work\" on any `QAGuidancePrompt` instances. The `answer_question` and `eval_pairwise` functions are [memoized](https://en.wikipedia.org/wiki/Memoization) to avoid unnecessarily regenerating the same answers or evaluations, so you should see this complete quickly unless you have changed the questions, prompts or number of iterations from the earlier steps."
   ]
  },
  {
   "cell_type": "code",
   "execution_count": 16,
   "id": "6aee5d09",
   "metadata": {
    "execution": {
     "iopub.execute_input": "2025-05-05T16:44:17.662544Z",
     "iopub.status.busy": "2025-05-05T16:44:17.662222Z",
     "iopub.status.idle": "2025-05-05T16:44:26.887185Z",
     "shell.execute_reply": "2025-05-05T16:44:26.885767Z"
    },
    "papermill": {
     "duration": 9.234394,
     "end_time": "2025-05-05T16:44:26.888803",
     "exception": false,
     "start_time": "2025-05-05T16:44:17.654409",
     "status": "completed"
    },
    "tags": []
   },
   "outputs": [
    {
     "name": "stdout",
     "output_type": "stream",
     "text": [
      "#1: Answer the following question in a single sentence, or as close to that as possible.\n",
      "---\n",
      "#2: Provide a brief answer to the following question, use a citation if necessary, but only enough to answer the question.\n",
      "---\n",
      "#3: Provide a thorough, detailed answer to the following question, citing the document and supplying additional background information as much as possible.\n"
     ]
    }
   ],
   "source": [
    "terse_prompt = QAGuidancePrompt(terse_guidance, questions)\n",
    "moderate_prompt = QAGuidancePrompt(moderate_guidance, questions)\n",
    "cited_prompt = QAGuidancePrompt(cited_guidance, questions)\n",
    "\n",
    "# Sort in reverse order, so that best is first\n",
    "sorted_results = sorted([terse_prompt, moderate_prompt, cited_prompt], reverse=True)\n",
    "for i, p in enumerate(sorted_results):\n",
    "  if i:\n",
    "    print('---')\n",
    "\n",
    "  print(f'#{i+1}: {p}')"
   ]
  }
 ],
 "metadata": {
  "kaggle": {
   "accelerator": "none",
   "dataSources": [],
   "dockerImageVersionId": 31012,
   "isGpuEnabled": false,
   "isInternetEnabled": true,
   "language": "python",
   "sourceType": "notebook"
  },
  "kernelspec": {
   "display_name": "Python 3",
   "language": "python",
   "name": "python3"
  },
  "language_info": {
   "codemirror_mode": {
    "name": "ipython",
    "version": 3
   },
   "file_extension": ".py",
   "mimetype": "text/x-python",
   "name": "python",
   "nbconvert_exporter": "python",
   "pygments_lexer": "ipython3",
   "version": "3.11.11"
  },
  "papermill": {
   "default_parameters": {},
   "duration": 129.644341,
   "end_time": "2025-05-05T16:44:27.717341",
   "environment_variables": {},
   "exception": null,
   "input_path": "__notebook__.ipynb",
   "output_path": "__notebook__.ipynb",
   "parameters": {},
   "start_time": "2025-05-05T16:42:18.073000",
   "version": "2.6.0"
  }
 },
 "nbformat": 4,
 "nbformat_minor": 5
}
